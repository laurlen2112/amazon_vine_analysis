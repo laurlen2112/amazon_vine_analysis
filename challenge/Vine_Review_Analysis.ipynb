{
 "cells": [
  {
   "cell_type": "markdown",
   "id": "9fd7ed3a",
   "metadata": {},
   "source": [
    "# Deliverable 2"
   ]
  },
  {
   "cell_type": "code",
   "execution_count": 1,
   "id": "0f1c2157",
   "metadata": {},
   "outputs": [],
   "source": [
    "import pandas as pd"
   ]
  },
  {
   "cell_type": "code",
   "execution_count": 2,
   "id": "efdd3377",
   "metadata": {},
   "outputs": [],
   "source": [
    "vine_df = pd.read_csv(\"vine.csv\")"
   ]
  },
  {
   "cell_type": "code",
   "execution_count": 3,
   "id": "0578e11a",
   "metadata": {},
   "outputs": [
    {
     "data": {
      "text/plain": [
       "review_id             object\n",
       "star_rating          float64\n",
       "helpful_votes        float64\n",
       "total_votes          float64\n",
       "vine                  object\n",
       "verified_purchase     object\n",
       "dtype: object"
      ]
     },
     "execution_count": 3,
     "metadata": {},
     "output_type": "execute_result"
    }
   ],
   "source": [
    "vine_df.dtypes"
   ]
  },
  {
   "cell_type": "code",
   "execution_count": 4,
   "id": "f20b34c7",
   "metadata": {},
   "outputs": [
    {
     "data": {
      "text/html": [
       "<div>\n",
       "<style scoped>\n",
       "    .dataframe tbody tr th:only-of-type {\n",
       "        vertical-align: middle;\n",
       "    }\n",
       "\n",
       "    .dataframe tbody tr th {\n",
       "        vertical-align: top;\n",
       "    }\n",
       "\n",
       "    .dataframe thead th {\n",
       "        text-align: right;\n",
       "    }\n",
       "</style>\n",
       "<table border=\"1\" class=\"dataframe\">\n",
       "  <thead>\n",
       "    <tr style=\"text-align: right;\">\n",
       "      <th></th>\n",
       "      <th>review_id</th>\n",
       "      <th>star_rating</th>\n",
       "      <th>helpful_votes</th>\n",
       "      <th>total_votes</th>\n",
       "      <th>vine</th>\n",
       "      <th>verified_purchase</th>\n",
       "    </tr>\n",
       "  </thead>\n",
       "  <tbody>\n",
       "    <tr>\n",
       "      <th>4864244</th>\n",
       "      <td>R1UP8F8Y4GC3IE</td>\n",
       "      <td>4.0</td>\n",
       "      <td>0.0</td>\n",
       "      <td>1.0</td>\n",
       "      <td>N</td>\n",
       "      <td>N</td>\n",
       "    </tr>\n",
       "    <tr>\n",
       "      <th>4864245</th>\n",
       "      <td>R3K9ZYANG0OFJB</td>\n",
       "      <td>5.0</td>\n",
       "      <td>7.0</td>\n",
       "      <td>7.0</td>\n",
       "      <td>N</td>\n",
       "      <td>N</td>\n",
       "    </tr>\n",
       "    <tr>\n",
       "      <th>4864246</th>\n",
       "      <td>R17ULZ2VC0O3CG</td>\n",
       "      <td>4.0</td>\n",
       "      <td>23.0</td>\n",
       "      <td>23.0</td>\n",
       "      <td>N</td>\n",
       "      <td>N</td>\n",
       "    </tr>\n",
       "    <tr>\n",
       "      <th>4864247</th>\n",
       "      <td>R13AWVNEKSY9M1</td>\n",
       "      <td>5.0</td>\n",
       "      <td>5.0</td>\n",
       "      <td>5.0</td>\n",
       "      <td>N</td>\n",
       "      <td>N</td>\n",
       "    </tr>\n",
       "    <tr>\n",
       "      <th>4864248</th>\n",
       "      <td>R1HN7EVNEN51LR</td>\n",
       "      <td>4.0</td>\n",
       "      <td>2.0</td>\n",
       "      <td>7.0</td>\n",
       "      <td>N</td>\n",
       "      <td>N</td>\n",
       "    </tr>\n",
       "  </tbody>\n",
       "</table>\n",
       "</div>"
      ],
      "text/plain": [
       "              review_id  star_rating  helpful_votes  total_votes vine  \\\n",
       "4864244  R1UP8F8Y4GC3IE          4.0            0.0          1.0    N   \n",
       "4864245  R3K9ZYANG0OFJB          5.0            7.0          7.0    N   \n",
       "4864246  R17ULZ2VC0O3CG          4.0           23.0         23.0    N   \n",
       "4864247  R13AWVNEKSY9M1          5.0            5.0          5.0    N   \n",
       "4864248  R1HN7EVNEN51LR          4.0            2.0          7.0    N   \n",
       "\n",
       "        verified_purchase  \n",
       "4864244                 N  \n",
       "4864245                 N  \n",
       "4864246                 N  \n",
       "4864247                 N  \n",
       "4864248                 N  "
      ]
     },
     "execution_count": 4,
     "metadata": {},
     "output_type": "execute_result"
    }
   ],
   "source": [
    "vine_df.tail()"
   ]
  },
  {
   "cell_type": "code",
   "execution_count": 5,
   "id": "46d7097b",
   "metadata": {},
   "outputs": [],
   "source": [
    "#1. create df where total votes are greater than or equal to 20.0\n",
    "vine_filtered = vine_df.loc[vine_df[\"total_votes\"] >= 20.0]"
   ]
  },
  {
   "cell_type": "code",
   "execution_count": 6,
   "id": "887b4c04",
   "metadata": {},
   "outputs": [
    {
     "data": {
      "text/html": [
       "<div>\n",
       "<style scoped>\n",
       "    .dataframe tbody tr th:only-of-type {\n",
       "        vertical-align: middle;\n",
       "    }\n",
       "\n",
       "    .dataframe tbody tr th {\n",
       "        vertical-align: top;\n",
       "    }\n",
       "\n",
       "    .dataframe thead th {\n",
       "        text-align: right;\n",
       "    }\n",
       "</style>\n",
       "<table border=\"1\" class=\"dataframe\">\n",
       "  <thead>\n",
       "    <tr style=\"text-align: right;\">\n",
       "      <th></th>\n",
       "      <th>review_id</th>\n",
       "      <th>star_rating</th>\n",
       "      <th>helpful_votes</th>\n",
       "      <th>total_votes</th>\n",
       "      <th>vine</th>\n",
       "      <th>verified_purchase</th>\n",
       "    </tr>\n",
       "  </thead>\n",
       "  <tbody>\n",
       "    <tr>\n",
       "      <th>104</th>\n",
       "      <td>ROP6ITXO8K5V2</td>\n",
       "      <td>5.0</td>\n",
       "      <td>23.0</td>\n",
       "      <td>27.0</td>\n",
       "      <td>N</td>\n",
       "      <td>Y</td>\n",
       "    </tr>\n",
       "    <tr>\n",
       "      <th>311</th>\n",
       "      <td>R3ND1LVU7AXCVF</td>\n",
       "      <td>1.0</td>\n",
       "      <td>21.0</td>\n",
       "      <td>21.0</td>\n",
       "      <td>N</td>\n",
       "      <td>Y</td>\n",
       "    </tr>\n",
       "    <tr>\n",
       "      <th>356</th>\n",
       "      <td>R9I5FOLKU99RY</td>\n",
       "      <td>5.0</td>\n",
       "      <td>19.0</td>\n",
       "      <td>20.0</td>\n",
       "      <td>Y</td>\n",
       "      <td>N</td>\n",
       "    </tr>\n",
       "    <tr>\n",
       "      <th>424</th>\n",
       "      <td>R1QS8AOD6HX3ED</td>\n",
       "      <td>4.0</td>\n",
       "      <td>59.0</td>\n",
       "      <td>81.0</td>\n",
       "      <td>N</td>\n",
       "      <td>N</td>\n",
       "    </tr>\n",
       "    <tr>\n",
       "      <th>546</th>\n",
       "      <td>R3ED60RC69CCQ6</td>\n",
       "      <td>5.0</td>\n",
       "      <td>22.0</td>\n",
       "      <td>23.0</td>\n",
       "      <td>Y</td>\n",
       "      <td>N</td>\n",
       "    </tr>\n",
       "  </tbody>\n",
       "</table>\n",
       "</div>"
      ],
      "text/plain": [
       "          review_id  star_rating  helpful_votes  total_votes vine  \\\n",
       "104   ROP6ITXO8K5V2          5.0           23.0         27.0    N   \n",
       "311  R3ND1LVU7AXCVF          1.0           21.0         21.0    N   \n",
       "356   R9I5FOLKU99RY          5.0           19.0         20.0    Y   \n",
       "424  R1QS8AOD6HX3ED          4.0           59.0         81.0    N   \n",
       "546  R3ED60RC69CCQ6          5.0           22.0         23.0    Y   \n",
       "\n",
       "    verified_purchase  \n",
       "104                 Y  \n",
       "311                 Y  \n",
       "356                 N  \n",
       "424                 N  \n",
       "546                 N  "
      ]
     },
     "execution_count": 6,
     "metadata": {},
     "output_type": "execute_result"
    }
   ],
   "source": [
    "vine_filtered.head()"
   ]
  },
  {
   "cell_type": "code",
   "execution_count": 7,
   "id": "02457082",
   "metadata": {},
   "outputs": [
    {
     "name": "stderr",
     "output_type": "stream",
     "text": [
      "/Users/laurenerminina/opt/anaconda3/envs/PythonData/envs/PythonData/lib/python3.7/site-packages/ipykernel_launcher.py:3: SettingWithCopyWarning: \n",
      "A value is trying to be set on a copy of a slice from a DataFrame.\n",
      "Try using .loc[row_indexer,col_indexer] = value instead\n",
      "\n",
      "See the caveats in the documentation: https://pandas.pydata.org/pandas-docs/stable/user_guide/indexing.html#returning-a-view-versus-a-copy\n",
      "  This is separate from the ipykernel package so we can avoid doing imports until\n"
     ]
    }
   ],
   "source": [
    "# 2. create new df where helpful votes divided by total votes has a remainder of 50%\n",
    "# 2a. filter df and create a new column to hold the result\n",
    "vine_filtered[\"result\"] = (vine_filtered[\"helpful_votes\"]/vine_filtered[\"total_votes\"]*100).round(1)"
   ]
  },
  {
   "cell_type": "code",
   "execution_count": 8,
   "id": "3596ae00",
   "metadata": {},
   "outputs": [
    {
     "data": {
      "text/html": [
       "<div>\n",
       "<style scoped>\n",
       "    .dataframe tbody tr th:only-of-type {\n",
       "        vertical-align: middle;\n",
       "    }\n",
       "\n",
       "    .dataframe tbody tr th {\n",
       "        vertical-align: top;\n",
       "    }\n",
       "\n",
       "    .dataframe thead th {\n",
       "        text-align: right;\n",
       "    }\n",
       "</style>\n",
       "<table border=\"1\" class=\"dataframe\">\n",
       "  <thead>\n",
       "    <tr style=\"text-align: right;\">\n",
       "      <th></th>\n",
       "      <th>review_id</th>\n",
       "      <th>star_rating</th>\n",
       "      <th>helpful_votes</th>\n",
       "      <th>total_votes</th>\n",
       "      <th>vine</th>\n",
       "      <th>verified_purchase</th>\n",
       "      <th>result</th>\n",
       "    </tr>\n",
       "  </thead>\n",
       "  <tbody>\n",
       "    <tr>\n",
       "      <th>104</th>\n",
       "      <td>ROP6ITXO8K5V2</td>\n",
       "      <td>5.0</td>\n",
       "      <td>23.0</td>\n",
       "      <td>27.0</td>\n",
       "      <td>N</td>\n",
       "      <td>Y</td>\n",
       "      <td>85.2</td>\n",
       "    </tr>\n",
       "    <tr>\n",
       "      <th>311</th>\n",
       "      <td>R3ND1LVU7AXCVF</td>\n",
       "      <td>1.0</td>\n",
       "      <td>21.0</td>\n",
       "      <td>21.0</td>\n",
       "      <td>N</td>\n",
       "      <td>Y</td>\n",
       "      <td>100.0</td>\n",
       "    </tr>\n",
       "    <tr>\n",
       "      <th>356</th>\n",
       "      <td>R9I5FOLKU99RY</td>\n",
       "      <td>5.0</td>\n",
       "      <td>19.0</td>\n",
       "      <td>20.0</td>\n",
       "      <td>Y</td>\n",
       "      <td>N</td>\n",
       "      <td>95.0</td>\n",
       "    </tr>\n",
       "    <tr>\n",
       "      <th>424</th>\n",
       "      <td>R1QS8AOD6HX3ED</td>\n",
       "      <td>4.0</td>\n",
       "      <td>59.0</td>\n",
       "      <td>81.0</td>\n",
       "      <td>N</td>\n",
       "      <td>N</td>\n",
       "      <td>72.8</td>\n",
       "    </tr>\n",
       "    <tr>\n",
       "      <th>546</th>\n",
       "      <td>R3ED60RC69CCQ6</td>\n",
       "      <td>5.0</td>\n",
       "      <td>22.0</td>\n",
       "      <td>23.0</td>\n",
       "      <td>Y</td>\n",
       "      <td>N</td>\n",
       "      <td>95.7</td>\n",
       "    </tr>\n",
       "  </tbody>\n",
       "</table>\n",
       "</div>"
      ],
      "text/plain": [
       "          review_id  star_rating  helpful_votes  total_votes vine  \\\n",
       "104   ROP6ITXO8K5V2          5.0           23.0         27.0    N   \n",
       "311  R3ND1LVU7AXCVF          1.0           21.0         21.0    N   \n",
       "356   R9I5FOLKU99RY          5.0           19.0         20.0    Y   \n",
       "424  R1QS8AOD6HX3ED          4.0           59.0         81.0    N   \n",
       "546  R3ED60RC69CCQ6          5.0           22.0         23.0    Y   \n",
       "\n",
       "    verified_purchase  result  \n",
       "104                 Y    85.2  \n",
       "311                 Y   100.0  \n",
       "356                 N    95.0  \n",
       "424                 N    72.8  \n",
       "546                 N    95.7  "
      ]
     },
     "execution_count": 8,
     "metadata": {},
     "output_type": "execute_result"
    }
   ],
   "source": [
    "vine_filtered.head()"
   ]
  },
  {
   "cell_type": "code",
   "execution_count": 9,
   "id": "b0e1df37",
   "metadata": {},
   "outputs": [],
   "source": [
    "#2b. create new df where result of 2a is 50% or more\n",
    "final_vine = vine_filtered.loc[vine_filtered[\"result\"]>=50.0]"
   ]
  },
  {
   "cell_type": "code",
   "execution_count": 10,
   "id": "8156022e",
   "metadata": {},
   "outputs": [
    {
     "data": {
      "text/html": [
       "<div>\n",
       "<style scoped>\n",
       "    .dataframe tbody tr th:only-of-type {\n",
       "        vertical-align: middle;\n",
       "    }\n",
       "\n",
       "    .dataframe tbody tr th {\n",
       "        vertical-align: top;\n",
       "    }\n",
       "\n",
       "    .dataframe thead th {\n",
       "        text-align: right;\n",
       "    }\n",
       "</style>\n",
       "<table border=\"1\" class=\"dataframe\">\n",
       "  <thead>\n",
       "    <tr style=\"text-align: right;\">\n",
       "      <th></th>\n",
       "      <th>review_id</th>\n",
       "      <th>star_rating</th>\n",
       "      <th>helpful_votes</th>\n",
       "      <th>total_votes</th>\n",
       "      <th>vine</th>\n",
       "      <th>verified_purchase</th>\n",
       "      <th>result</th>\n",
       "    </tr>\n",
       "  </thead>\n",
       "  <tbody>\n",
       "    <tr>\n",
       "      <th>104</th>\n",
       "      <td>ROP6ITXO8K5V2</td>\n",
       "      <td>5.0</td>\n",
       "      <td>23.0</td>\n",
       "      <td>27.0</td>\n",
       "      <td>N</td>\n",
       "      <td>Y</td>\n",
       "      <td>85.2</td>\n",
       "    </tr>\n",
       "    <tr>\n",
       "      <th>311</th>\n",
       "      <td>R3ND1LVU7AXCVF</td>\n",
       "      <td>1.0</td>\n",
       "      <td>21.0</td>\n",
       "      <td>21.0</td>\n",
       "      <td>N</td>\n",
       "      <td>Y</td>\n",
       "      <td>100.0</td>\n",
       "    </tr>\n",
       "    <tr>\n",
       "      <th>356</th>\n",
       "      <td>R9I5FOLKU99RY</td>\n",
       "      <td>5.0</td>\n",
       "      <td>19.0</td>\n",
       "      <td>20.0</td>\n",
       "      <td>Y</td>\n",
       "      <td>N</td>\n",
       "      <td>95.0</td>\n",
       "    </tr>\n",
       "    <tr>\n",
       "      <th>424</th>\n",
       "      <td>R1QS8AOD6HX3ED</td>\n",
       "      <td>4.0</td>\n",
       "      <td>59.0</td>\n",
       "      <td>81.0</td>\n",
       "      <td>N</td>\n",
       "      <td>N</td>\n",
       "      <td>72.8</td>\n",
       "    </tr>\n",
       "    <tr>\n",
       "      <th>546</th>\n",
       "      <td>R3ED60RC69CCQ6</td>\n",
       "      <td>5.0</td>\n",
       "      <td>22.0</td>\n",
       "      <td>23.0</td>\n",
       "      <td>Y</td>\n",
       "      <td>N</td>\n",
       "      <td>95.7</td>\n",
       "    </tr>\n",
       "  </tbody>\n",
       "</table>\n",
       "</div>"
      ],
      "text/plain": [
       "          review_id  star_rating  helpful_votes  total_votes vine  \\\n",
       "104   ROP6ITXO8K5V2          5.0           23.0         27.0    N   \n",
       "311  R3ND1LVU7AXCVF          1.0           21.0         21.0    N   \n",
       "356   R9I5FOLKU99RY          5.0           19.0         20.0    Y   \n",
       "424  R1QS8AOD6HX3ED          4.0           59.0         81.0    N   \n",
       "546  R3ED60RC69CCQ6          5.0           22.0         23.0    Y   \n",
       "\n",
       "    verified_purchase  result  \n",
       "104                 Y    85.2  \n",
       "311                 Y   100.0  \n",
       "356                 N    95.0  \n",
       "424                 N    72.8  \n",
       "546                 N    95.7  "
      ]
     },
     "execution_count": 10,
     "metadata": {},
     "output_type": "execute_result"
    }
   ],
   "source": [
    "final_vine.head()"
   ]
  },
  {
   "cell_type": "markdown",
   "id": "c4977b7e",
   "metadata": {},
   "source": [
    "# Steps 3 to 5: create two dataframes and run calculations"
   ]
  },
  {
   "cell_type": "markdown",
   "id": "36cea79b",
   "metadata": {},
   "source": [
    "## steps 3 to 5 on dataset of paid Vine reviews"
   ]
  },
  {
   "cell_type": "code",
   "execution_count": 11,
   "id": "0c95deba",
   "metadata": {},
   "outputs": [
    {
     "data": {
      "text/html": [
       "<div>\n",
       "<style scoped>\n",
       "    .dataframe tbody tr th:only-of-type {\n",
       "        vertical-align: middle;\n",
       "    }\n",
       "\n",
       "    .dataframe tbody tr th {\n",
       "        vertical-align: top;\n",
       "    }\n",
       "\n",
       "    .dataframe thead th {\n",
       "        text-align: right;\n",
       "    }\n",
       "</style>\n",
       "<table border=\"1\" class=\"dataframe\">\n",
       "  <thead>\n",
       "    <tr style=\"text-align: right;\">\n",
       "      <th></th>\n",
       "      <th>review_id</th>\n",
       "      <th>star_rating</th>\n",
       "      <th>helpful_votes</th>\n",
       "      <th>total_votes</th>\n",
       "      <th>vine</th>\n",
       "      <th>verified_purchase</th>\n",
       "      <th>result</th>\n",
       "    </tr>\n",
       "  </thead>\n",
       "  <tbody>\n",
       "    <tr>\n",
       "      <th>356</th>\n",
       "      <td>R9I5FOLKU99RY</td>\n",
       "      <td>5.0</td>\n",
       "      <td>19.0</td>\n",
       "      <td>20.0</td>\n",
       "      <td>Y</td>\n",
       "      <td>N</td>\n",
       "      <td>95.0</td>\n",
       "    </tr>\n",
       "    <tr>\n",
       "      <th>546</th>\n",
       "      <td>R3ED60RC69CCQ6</td>\n",
       "      <td>5.0</td>\n",
       "      <td>22.0</td>\n",
       "      <td>23.0</td>\n",
       "      <td>Y</td>\n",
       "      <td>N</td>\n",
       "      <td>95.7</td>\n",
       "    </tr>\n",
       "    <tr>\n",
       "      <th>926</th>\n",
       "      <td>R2JM687C525WR9</td>\n",
       "      <td>3.0</td>\n",
       "      <td>33.0</td>\n",
       "      <td>33.0</td>\n",
       "      <td>Y</td>\n",
       "      <td>N</td>\n",
       "      <td>100.0</td>\n",
       "    </tr>\n",
       "    <tr>\n",
       "      <th>7569</th>\n",
       "      <td>RUB4AUWGHG16G</td>\n",
       "      <td>4.0</td>\n",
       "      <td>25.0</td>\n",
       "      <td>27.0</td>\n",
       "      <td>Y</td>\n",
       "      <td>N</td>\n",
       "      <td>92.6</td>\n",
       "    </tr>\n",
       "    <tr>\n",
       "      <th>20672</th>\n",
       "      <td>R1S3IDYJUA6V2G</td>\n",
       "      <td>5.0</td>\n",
       "      <td>28.0</td>\n",
       "      <td>32.0</td>\n",
       "      <td>Y</td>\n",
       "      <td>N</td>\n",
       "      <td>87.5</td>\n",
       "    </tr>\n",
       "  </tbody>\n",
       "</table>\n",
       "</div>"
      ],
      "text/plain": [
       "            review_id  star_rating  helpful_votes  total_votes vine  \\\n",
       "356     R9I5FOLKU99RY          5.0           19.0         20.0    Y   \n",
       "546    R3ED60RC69CCQ6          5.0           22.0         23.0    Y   \n",
       "926    R2JM687C525WR9          3.0           33.0         33.0    Y   \n",
       "7569    RUB4AUWGHG16G          4.0           25.0         27.0    Y   \n",
       "20672  R1S3IDYJUA6V2G          5.0           28.0         32.0    Y   \n",
       "\n",
       "      verified_purchase  result  \n",
       "356                   N    95.0  \n",
       "546                   N    95.7  \n",
       "926                   N   100.0  \n",
       "7569                  N    92.6  \n",
       "20672                 N    87.5  "
      ]
     },
     "execution_count": 11,
     "metadata": {},
     "output_type": "execute_result"
    }
   ],
   "source": [
    "#3 - create a new df to show paid reviews\n",
    "paid_vine = final_vine.loc[final_vine[\"vine\"]==\"Y\"]\n",
    "paid_vine.head()"
   ]
  },
  {
   "cell_type": "code",
   "execution_count": 12,
   "id": "652175ca",
   "metadata": {},
   "outputs": [
    {
     "name": "stdout",
     "output_type": "stream",
     "text": [
      "There are a total of 1266 paid Vine reviews\n"
     ]
    }
   ],
   "source": [
    "#5a. calculate the total number of reviews in the paid reviews (paid_vine) df\n",
    "total_vine_paid = paid_vine[\"star_rating\"].count()\n",
    "print(f\"There are a total of {total_vine_paid} paid Vine reviews\")"
   ]
  },
  {
   "cell_type": "code",
   "execution_count": 37,
   "id": "d03d53a1",
   "metadata": {},
   "outputs": [
    {
     "name": "stdout",
     "output_type": "stream",
     "text": [
      "Summary of paid reviews:\n"
     ]
    },
    {
     "data": {
      "text/plain": [
       "5.0    432\n",
       "4.0    416\n",
       "3.0    300\n",
       "2.0     82\n",
       "1.0     36\n",
       "Name: star_rating, dtype: int64"
      ]
     },
     "execution_count": 37,
     "metadata": {},
     "output_type": "execute_result"
    }
   ],
   "source": [
    "#5b. part 1 - calculate the values of the star review column\n",
    "five_star_paid = paid_vine[\"star_rating\"].value_counts()\n",
    "print(\"Summary of paid reviews:\")\n",
    "five_star_paid"
   ]
  },
  {
   "cell_type": "code",
   "execution_count": 34,
   "id": "e1aef3d3",
   "metadata": {},
   "outputs": [
    {
     "name": "stdout",
     "output_type": "stream",
     "text": [
      "There are a total of 432 paid five star reviews\n"
     ]
    }
   ],
   "source": [
    "#5b. calculate the number of five star reviews in the \"paid_vine\" df\n",
    "count_paid = five_star_paid[5.0]\n",
    "\n",
    "print(f\"There are a total of {count_paid} paid five star reviews\")"
   ]
  },
  {
   "cell_type": "code",
   "execution_count": 27,
   "id": "40bbef82",
   "metadata": {},
   "outputs": [
    {
     "name": "stdout",
     "output_type": "stream",
     "text": [
      "Paid five star reviews comprise 34.12% of this dataset\n"
     ]
    }
   ],
   "source": [
    "#5c the percentage of 5-star reviews for the two types of review (paid vs unpaid)\n",
    "paid_percent = (count_paid/total_vine_paid * 100).round(2)\n",
    "\n",
    "print(f\"Paid five star reviews comprise {paid_percent}% of this dataset\")"
   ]
  },
  {
   "cell_type": "code",
   "execution_count": null,
   "id": "6f6a9b8a",
   "metadata": {},
   "outputs": [],
   "source": []
  },
  {
   "cell_type": "markdown",
   "id": "ed91dccc",
   "metadata": {},
   "source": [
    "## steps 4 to 5 on dataset of paid reviews"
   ]
  },
  {
   "cell_type": "code",
   "execution_count": 16,
   "id": "1c1452fd",
   "metadata": {},
   "outputs": [
    {
     "data": {
      "text/html": [
       "<div>\n",
       "<style scoped>\n",
       "    .dataframe tbody tr th:only-of-type {\n",
       "        vertical-align: middle;\n",
       "    }\n",
       "\n",
       "    .dataframe tbody tr th {\n",
       "        vertical-align: top;\n",
       "    }\n",
       "\n",
       "    .dataframe thead th {\n",
       "        text-align: right;\n",
       "    }\n",
       "</style>\n",
       "<table border=\"1\" class=\"dataframe\">\n",
       "  <thead>\n",
       "    <tr style=\"text-align: right;\">\n",
       "      <th></th>\n",
       "      <th>review_id</th>\n",
       "      <th>star_rating</th>\n",
       "      <th>helpful_votes</th>\n",
       "      <th>total_votes</th>\n",
       "      <th>vine</th>\n",
       "      <th>verified_purchase</th>\n",
       "      <th>result</th>\n",
       "    </tr>\n",
       "  </thead>\n",
       "  <tbody>\n",
       "    <tr>\n",
       "      <th>104</th>\n",
       "      <td>ROP6ITXO8K5V2</td>\n",
       "      <td>5.0</td>\n",
       "      <td>23.0</td>\n",
       "      <td>27.0</td>\n",
       "      <td>N</td>\n",
       "      <td>Y</td>\n",
       "      <td>85.2</td>\n",
       "    </tr>\n",
       "    <tr>\n",
       "      <th>311</th>\n",
       "      <td>R3ND1LVU7AXCVF</td>\n",
       "      <td>1.0</td>\n",
       "      <td>21.0</td>\n",
       "      <td>21.0</td>\n",
       "      <td>N</td>\n",
       "      <td>Y</td>\n",
       "      <td>100.0</td>\n",
       "    </tr>\n",
       "    <tr>\n",
       "      <th>424</th>\n",
       "      <td>R1QS8AOD6HX3ED</td>\n",
       "      <td>4.0</td>\n",
       "      <td>59.0</td>\n",
       "      <td>81.0</td>\n",
       "      <td>N</td>\n",
       "      <td>N</td>\n",
       "      <td>72.8</td>\n",
       "    </tr>\n",
       "    <tr>\n",
       "      <th>1176</th>\n",
       "      <td>R2LWX4TZ67FWPT</td>\n",
       "      <td>4.0</td>\n",
       "      <td>50.0</td>\n",
       "      <td>50.0</td>\n",
       "      <td>N</td>\n",
       "      <td>N</td>\n",
       "      <td>100.0</td>\n",
       "    </tr>\n",
       "    <tr>\n",
       "      <th>1515</th>\n",
       "      <td>R29IYHPYD14AGI</td>\n",
       "      <td>3.0</td>\n",
       "      <td>84.0</td>\n",
       "      <td>84.0</td>\n",
       "      <td>N</td>\n",
       "      <td>Y</td>\n",
       "      <td>100.0</td>\n",
       "    </tr>\n",
       "  </tbody>\n",
       "</table>\n",
       "</div>"
      ],
      "text/plain": [
       "           review_id  star_rating  helpful_votes  total_votes vine  \\\n",
       "104    ROP6ITXO8K5V2          5.0           23.0         27.0    N   \n",
       "311   R3ND1LVU7AXCVF          1.0           21.0         21.0    N   \n",
       "424   R1QS8AOD6HX3ED          4.0           59.0         81.0    N   \n",
       "1176  R2LWX4TZ67FWPT          4.0           50.0         50.0    N   \n",
       "1515  R29IYHPYD14AGI          3.0           84.0         84.0    N   \n",
       "\n",
       "     verified_purchase  result  \n",
       "104                  Y    85.2  \n",
       "311                  Y   100.0  \n",
       "424                  N    72.8  \n",
       "1176                 N   100.0  \n",
       "1515                 Y   100.0  "
      ]
     },
     "execution_count": 16,
     "metadata": {},
     "output_type": "execute_result"
    }
   ],
   "source": [
    "#4 - create a new df to show unpaid reviews\n",
    "unpaid_vine = final_vine.loc[final_vine[\"vine\"]==\"N\"]\n",
    "unpaid_vine.head()"
   ]
  },
  {
   "cell_type": "code",
   "execution_count": 17,
   "id": "d4001469",
   "metadata": {},
   "outputs": [
    {
     "name": "stdout",
     "output_type": "stream",
     "text": [
      "There are a total of 62028 unpaid reviews\n"
     ]
    }
   ],
   "source": [
    "#5a. calculate the total number of reviews in the paid reviews (unpaid_vine) df\n",
    "total_vine_unpaid = unpaid_vine[\"star_rating\"].count()\n",
    "print(f\"There are a total of {total_vine_unpaid} unpaid reviews\")"
   ]
  },
  {
   "cell_type": "code",
   "execution_count": 38,
   "id": "5d934853",
   "metadata": {},
   "outputs": [
    {
     "name": "stdout",
     "output_type": "stream",
     "text": [
      "Summary of unpaid reviews:\n"
     ]
    },
    {
     "data": {
      "text/plain": [
       "5.0    29982\n",
       "1.0    11014\n",
       "4.0    10054\n",
       "3.0     6310\n",
       "2.0     4668\n",
       "Name: star_rating, dtype: int64"
      ]
     },
     "execution_count": 38,
     "metadata": {},
     "output_type": "execute_result"
    }
   ],
   "source": [
    "#5b. part 1 - calculate the values of the star review column\n",
    "five_star_unpaid = unpaid_vine[\"star_rating\"].value_counts()\n",
    "print(\"Summary of unpaid reviews:\")\n",
    "five_star_unpaid"
   ]
  },
  {
   "cell_type": "code",
   "execution_count": 19,
   "id": "72c70a31",
   "metadata": {},
   "outputs": [
    {
     "name": "stdout",
     "output_type": "stream",
     "text": [
      "There are a total of 29982 unpaid five star reviews\n"
     ]
    }
   ],
   "source": [
    "#5b. calculate the number of five star reviews in the \"unpaid_vine\" df\n",
    "count_unpaid = five_star_unpaid[5.0]\n",
    "print(f\"There are a total of {count_unpaid} unpaid five star reviews\")"
   ]
  },
  {
   "cell_type": "code",
   "execution_count": 26,
   "id": "295cbe75",
   "metadata": {},
   "outputs": [
    {
     "name": "stdout",
     "output_type": "stream",
     "text": [
      "Unpaid five star reviews comprise 48.34% of this dataset\n"
     ]
    }
   ],
   "source": [
    "#5c calculate the percentage of unpaid reviews on the unpaid_review df\n",
    "unpaid_percent = (count_unpaid/total_vine_unpaid * 100).round(2)\n",
    "print(f\"Unpaid five star reviews comprise {unpaid_percent}% of this dataset\")"
   ]
  },
  {
   "cell_type": "code",
   "execution_count": null,
   "id": "f174e7f0",
   "metadata": {},
   "outputs": [],
   "source": []
  }
 ],
 "metadata": {
  "kernelspec": {
   "display_name": "PythonData",
   "language": "python",
   "name": "pythondata"
  },
  "language_info": {
   "codemirror_mode": {
    "name": "ipython",
    "version": 3
   },
   "file_extension": ".py",
   "mimetype": "text/x-python",
   "name": "python",
   "nbconvert_exporter": "python",
   "pygments_lexer": "ipython3",
   "version": "3.7.11"
  }
 },
 "nbformat": 4,
 "nbformat_minor": 5
}
